{
 "cells": [
  {
   "cell_type": "code",
   "execution_count": null,
   "id": "9dd412c1",
   "metadata": {},
   "outputs": [],
   "source": [
    "merged_ROI['inittial_invetement']= 1000000\n",
    "merged_ROI['inittial_invetement']= merged_ROI['inittial_invetement'].astype(\"float64\")\n",
    "merged_ROI['ROI']=merged_ROI['ROI'].astype(\"float64\")\n",
    "merged_ROI"
   ]
  }
 ],
 "metadata": {
  "kernelspec": {
   "display_name": "Python [conda env:pyvizenv] *",
   "language": "python",
   "name": "conda-env-pyvizenv-py"
  },
  "language_info": {
   "codemirror_mode": {
    "name": "ipython",
    "version": 3
   },
   "file_extension": ".py",
   "mimetype": "text/x-python",
   "name": "python",
   "nbconvert_exporter": "python",
   "pygments_lexer": "ipython3",
   "version": "3.7.11"
  }
 },
 "nbformat": 4,
 "nbformat_minor": 5
}
